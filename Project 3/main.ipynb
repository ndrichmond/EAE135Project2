{
 "cells": [
  {
   "cell_type": "code",
   "execution_count": 41,
   "metadata": {},
   "outputs": [],
   "source": [
    "import numpy as np\n",
    "import matplotlib.pyplot as plt"
   ]
  },
  {
   "cell_type": "code",
   "execution_count": null,
   "metadata": {},
   "outputs": [
    {
     "name": "stdout",
     "output_type": "stream",
     "text": [
      "13.65\n",
      "1.95\n",
      "0.0\n",
      "-1.95\n",
      "-1.3\n",
      "1.95\n",
      "H22c:  79027569.91629623\n",
      "H23c:  33797551.4471739\n",
      "H33c:  2165551036.74\n",
      "[  7544.30020883 -58113.46643633 -69056.42754385  -1077.75717269\n",
      "  22300.30439949  19092.47740152]\n"
     ]
    },
    {
     "ename": "TypeError",
     "evalue": "'float' object is not callable",
     "output_type": "error",
     "traceback": [
      "\u001b[31m---------------------------------------------------------------------------\u001b[39m",
      "\u001b[31mTypeError\u001b[39m                                 Traceback (most recent call last)",
      "\u001b[36mCell\u001b[39m\u001b[36m \u001b[39m\u001b[32mIn[49]\u001b[39m\u001b[32m, line 86\u001b[39m\n\u001b[32m     83\u001b[39m \u001b[38;5;66;03m# Define an update function (e.g., increment each element)\u001b[39;00m\n\u001b[32m     84\u001b[39m updatef_ij = \u001b[38;5;28;01mlambda\u001b[39;00m x: x + \u001b[32m10\u001b[39m\n\u001b[32m---> \u001b[39m\u001b[32m86\u001b[39m updated_arr = \u001b[43mt\u001b[49m\u001b[43m(\u001b[49m\u001b[43marr\u001b[49m\u001b[43m,\u001b[49m\u001b[43m \u001b[49m\u001b[43mstart_index\u001b[49m\u001b[43m,\u001b[49m\u001b[43m \u001b[49m\u001b[43mupdatef_ij\u001b[49m\u001b[43m)\u001b[49m\n\u001b[32m     87\u001b[39m \u001b[38;5;28mprint\u001b[39m(updated_arr)\n",
      "\u001b[31mTypeError\u001b[39m: 'float' object is not callable"
     ]
    }
   ],
   "source": [
    "#Constants for the Code\n",
    "\n",
    "V2 = 0\n",
    "V3 = 256000 #Newtons\n",
    "E_al = 10.5 *10**3* 6.89476 *10**6 #Pa #Youngs Modulus of aluminium, the material of stringer\n",
    "#0.020 − 0.062𝑖𝑛 thickness range for the “L” direction\n",
    "R = 1.95 #m #Distance from origion to LE\n",
    "A_s = 150 * (1/1000)**2 #m^2 #Stringer Area\n",
    "t = 2.95/1000 #m #Thickness\n",
    "c = 8*R #Chord\n",
    "\n",
    "x2i = np.array([\n",
    "    7*R,\n",
    "    R,\n",
    "    0,\n",
    "    -R,\n",
    "    -2*R/3,\n",
    "    R\n",
    "])\n",
    "\n",
    "x3i = np.array([\n",
    "    0,\n",
    "    6/7*R,\n",
    "    R,\n",
    "    0,\n",
    "    -R/3,\n",
    "    -6*R/23\n",
    "])\n",
    "H22c = 0\n",
    "H33c = 0\n",
    "H23c = 0\n",
    "#H22c\n",
    "\n",
    "for i in range(np.size(x2i)):\n",
    "    print(x2i[i])\n",
    "    H22c += E_al*A_s*(x3i[i])**2\n",
    "    H23c += E_al*A_s*(x3i[i])*(x2i[i])\n",
    "    H33c += E_al*A_s*(x2i[i])**2\n",
    "#This method is faster and only yields errors in the float, ie e-15\n",
    "\n",
    "print(\"H22c: \", H22c)\n",
    "print(\"H23c: \", H23c)\n",
    "print(\"H33c: \", H33c)\n",
    "\n",
    "del_fi = np.array([]) #shear flow due to the presence of stringers, i\n",
    "\n",
    "for i in range(np.size(x2i)):\n",
    "    shearflowinx2 = x2i[i]*(H22c*V2 - H23c*V3)/(H22c*H33c - (H23c)**2)\n",
    "    shearflowinx3 = x3i[i]*(H23c*V2 - H33c*V3)/(H22c*H33c - (H23c)**2)\n",
    "\n",
    "    calc = -E_al*A_s*( shearflowinx2 - shearflowinx3)\n",
    "    del_fi = np.append(del_fi, calc)\n",
    "print(del_fi)\n",
    "\n",
    "#We make a cut along 12\n",
    "#therefore, our shearflow in the skin calcs start at cut = 2\n",
    "\n",
    "cut = 1\n",
    "f_ij = np.zeros(np.size(x2i))\n",
    "f_ij[cut-1] = 0\n",
    "\n",
    "\n",
    "    \n"
   ]
  },
  {
   "cell_type": "code",
   "execution_count": null,
   "metadata": {},
   "outputs": [],
   "source": []
  }
 ],
 "metadata": {
  "kernelspec": {
   "display_name": ".venv",
   "language": "python",
   "name": "python3"
  },
  "language_info": {
   "codemirror_mode": {
    "name": "ipython",
    "version": 3
   },
   "file_extension": ".py",
   "mimetype": "text/x-python",
   "name": "python",
   "nbconvert_exporter": "python",
   "pygments_lexer": "ipython3",
   "version": "3.12.7"
  }
 },
 "nbformat": 4,
 "nbformat_minor": 2
}
