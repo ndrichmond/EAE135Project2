{
 "cells": [
  {
   "cell_type": "code",
   "execution_count": 2,
   "metadata": {},
   "outputs": [],
   "source": [
    "import numpy as np\n",
    "import matplotlib.pyplot as plt"
   ]
  },
  {
   "cell_type": "code",
   "execution_count": null,
   "metadata": {},
   "outputs": [
    {
     "name": "stdout",
     "output_type": "stream",
     "text": [
      "E_al 2024-T861: 72.39498 GPa\n",
      "1.2222222222222223 0.21048999309868874\n",
      "H22c:  68050584.36934105\n",
      "H23c:  -29940944.958260868\n",
      "H33c:  1795449800.235\n",
      "here 42436.3638873343\n",
      "here index 5\n",
      "here shear flow:  51595.98164891336\n",
      "Open Shear Flow for skin sections, 12-61 \n",
      " [     0.         -61721.914884   -41856.40477626   4312.75596654\n",
      "  42436.36388733  51595.98164891]\n"
     ]
    }
   ],
   "source": [
    "#Constants for the Code\n",
    "\n",
    "V2 = 0\n",
    "V3 = 256000 #Newtons\n",
    "E_al = 10.5 *10**3* 6.89476 *10**6 #Pa #Youngs Modulus of aluminium, the material of stringer\n",
    "#0.020 − 0.062𝑖𝑛 thickness range for the “L” direction\n",
    "R = 1.95 #m #Distance from origion to LE\n",
    "A_s = 150 * (1/1000)**2 #m^2 #Stringer Area\n",
    "t = 2.95/1000 #m #Thickness\n",
    "c = 8*R #Chord\n",
    "\n",
    "print(\"E_al 2024-T861:\", E_al/(10**9), \"GPa\")\n",
    "\n",
    "#x2c = 1.222*R\n",
    "#x3c = 0.2974*R\n",
    "\n",
    "x2i = np.array([\n",
    "    7*R,\n",
    "    R,\n",
    "    0,\n",
    "    -R,\n",
    "    -2*R/3,\n",
    "    R\n",
    "])\n",
    "\n",
    "x3i = np.array([\n",
    "    0,\n",
    "    6/7*R,\n",
    "    R,\n",
    "    0,\n",
    "    -R/3,\n",
    "    -6*R/23\n",
    "])\n",
    "\n",
    "len = np.size(x2i)\n",
    "\n",
    "x2c = (7*R -2*R/3 + R)/6\n",
    "x3c = (6/7*R + R - R/3 - 6*R/23)/6\n",
    "\n",
    "print(x2c/R, x3c/R)\n",
    "\n",
    "x2i_c = x2i-x2c\n",
    "x3i_c = x3i-x3c\n",
    "\n",
    "H22c = 0\n",
    "H33c = 0\n",
    "H23c = 0\n",
    "\n",
    "for i in range(len):\n",
    "    #print(x2i[i])\n",
    "    H22c += E_al*A_s*(x3i_c[i])**2\n",
    "    H23c += E_al*A_s*(x3i_c[i])*(x2i_c[i])\n",
    "    H33c += E_al*A_s*(x2i_c[i])**2\n",
    "#This method is faster and only yields errors in the float, ie e-15\n",
    "\n",
    "print(\"H22c: \", H22c)\n",
    "print(\"H23c: \", H23c)\n",
    "print(\"H33c: \", H33c)\n",
    "\n",
    "del_fi = np.array([]) #shear flow due to the presence of stringers, i\n",
    "\n",
    "for i in range(len):\n",
    "    shearflowinx2 = x2i_c[i]*(H22c*V2 - H23c*V3)/(H22c*H33c - (H23c)**2)\n",
    "    shearflowinx3 = x3i_c[i]*(H23c*V2 - H33c*V3)/(H22c*H33c - (H23c)**2)\n",
    "\n",
    "    calc = -E_al*A_s*( shearflowinx2 - shearflowinx3)\n",
    "    del_fi = np.append(del_fi, calc)\n",
    "#print(del_fi)\n",
    "\n",
    "#We make a cut along 12\n",
    "#therefore, our shearflow in the skin calcs start at cut = 2\n",
    "\n",
    "cut = 1\n",
    "f_ij = np.zeros(len)\n",
    "f_ij[cut-1] = 0\n",
    "\n",
    "for i in range(cut,np.size(f_ij)):\n",
    "    if(i+1>5):\n",
    "        print(\"here\",f_ij[i-cut])\n",
    "        \n",
    "        print(\"here index\",i)\n",
    "        f_ij[i] = f_ij[i-cut] + del_fi[cut-1]\n",
    "        print(\"here shear flow: \", f_ij[i])\n",
    "    else:\n",
    "        \n",
    "        f_ij[i] = f_ij[i-cut] + del_fi[i+1] #f_23 = f_12 + del_fi(2)\n",
    "\n",
    "print(\"Open Shear Flow for skin sections, 12-61 \\n\",f_ij)\n",
    "\n",
    "\n",
    "\n",
    "    \n"
   ]
  },
  {
   "attachments": {
    "image.png": {
     "image/png": "[encoded data removed]"
    }
   },
   "cell_type": "markdown",
   "metadata": {},
   "source": [
    "Now time to calculate the distance between stringers\n",
    "\n",
    "To do this, We will look at x2i and x23, given these points we can find the distance according to the following.\n",
    "\n",
    "![image.png](attachment:image.png)"
   ]
  },
  {
   "cell_type": "code",
   "execution_count": 89,
   "metadata": {},
   "outputs": [
    {
     "name": "stdout",
     "output_type": "stream",
     "text": [
      "0\n",
      "1\n",
      "2\n",
      "3\n",
      "4\n",
      "[11.81878477  1.96979746  2.75771645  0.91923882  3.25307038  3.25307038]\n"
     ]
    }
   ],
   "source": [
    "#Closing Shear Flow calculations\n",
    "\n",
    "#print(x2i)\n",
    "#print(x3i)\n",
    "\n",
    "l_i = np.zeros(len)\n",
    "\n",
    "for i in range(len-1):\n",
    "    l_i[i] = np.sqrt((x2i[i+1] - x2i[i])**2 + (x3i[i+1] - x3i[i])**2)\n",
    "    #To get the last distance to close out polygon\n",
    "    print(i)\n",
    "    l_i[i+1] = np.sqrt((x2i[i] - x2i[i+1])**2 + (x3i[i] - x3i[i+1])**2)\n",
    "\n",
    "print(l_i)"
   ]
  },
  {
   "cell_type": "code",
   "execution_count": null,
   "metadata": {},
   "outputs": [],
   "source": []
  }
 ],
 "metadata": {
  "kernelspec": {
   "display_name": ".venv",
   "language": "python",
   "name": "python3"
  },
  "language_info": {
   "codemirror_mode": {
    "name": "ipython",
    "version": 3
   },
   "file_extension": ".py",
   "mimetype": "text/x-python",
   "name": "python",
   "nbconvert_exporter": "python",
   "pygments_lexer": "ipython3",
   "version": "3.13.1"
  }
 },
 "nbformat": 4,
 "nbformat_minor": 2
}
