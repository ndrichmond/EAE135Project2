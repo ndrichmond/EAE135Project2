{
 "cells": [
  {
   "cell_type": "code",
   "execution_count": 41,
   "metadata": {},
   "outputs": [],
   "source": [
    "import numpy as np\n",
    "import matplotlib.pyplot as plt"
   ]
  },
  {
   "cell_type": "code",
   "execution_count": null,
   "metadata": {},
   "outputs": [
    {
     "name": "stdout",
     "output_type": "stream",
     "text": [
      "E_al 2024-T861: 72.39498 GPa\n",
      "13.65\n",
      "1.95\n",
      "0.0\n",
      "-1.95\n",
      "-1.3\n",
      "1.95\n",
      "H22c:  68052778.6291711\n",
      "H23c:  -29941108.806434512\n",
      "H33c:  1795449812.4697516\n",
      "[ -9367.40347957 -70120.99046551 -80246.5882965    1338.20049708\n",
      "  27640.99643022  19595.69210201]\n"
     ]
    }
   ],
   "source": [
    "#Constants for the Code\n",
    "\n",
    "V2 = 0\n",
    "V3 = 256000 #Newtons\n",
    "E_al = 10.5 *10**3* 6.89476 *10**6 #Pa #Youngs Modulus of aluminium, the material of stringer\n",
    "#0.020 − 0.062𝑖𝑛 thickness range for the “L” direction\n",
    "R = 1.95 #m #Distance from origion to LE\n",
    "A_s = 150 * (1/1000)**2 #m^2 #Stringer Area\n",
    "t = 2.95/1000 #m #Thickness\n",
    "c = 8*R #Chord\n",
    "\n",
    "print(\"E_al 2024-T861:\", E_al/(10**9), \"GPa\")\n",
    "\n",
    "x2c = 1.222*R\n",
    "x3c = 0.213466*R\n",
    "\n",
    "x2i = np.array([\n",
    "    7*R,\n",
    "    R,\n",
    "    0,\n",
    "    -R,\n",
    "    -2*R/3,\n",
    "    R\n",
    "])\n",
    "\n",
    "x3i = np.array([\n",
    "    0,\n",
    "    6/7*R,\n",
    "    R,\n",
    "    0,\n",
    "    -R/3,\n",
    "    -6*R/23\n",
    "])\n",
    "\n",
    "x2i_c = x2i-x2c\n",
    "x3i_c = x3i-x3c\n",
    "\n",
    "H22c = 0\n",
    "H33c = 0\n",
    "H23c = 0\n",
    "#H22c\n",
    "\n",
    "for i in range(np.size(x2i)):\n",
    "    print(x2i[i])\n",
    "    H22c += E_al*A_s*(x3i_c[i])**2\n",
    "    H23c += E_al*A_s*(x3i_c[i])*(x2i_c[i])\n",
    "    H33c += E_al*A_s*(x2i_c[i])**2\n",
    "#This method is faster and only yields errors in the float, ie e-15\n",
    "\n",
    "print(\"H22c: \", H22c)\n",
    "print(\"H23c: \", H23c)\n",
    "print(\"H33c: \", H33c)\n",
    "\n",
    "del_fi = np.array([]) #shear flow due to the presence of stringers, i\n",
    "\n",
    "for i in range(np.size(x2i)):\n",
    "    shearflowinx2 = x2i[i]*(H22c*V2 - H23c*V3)/(H22c*H33c - (H23c)**2)\n",
    "    shearflowinx3 = x3i[i]*(H23c*V2 - H33c*V3)/(H22c*H33c - (H23c)**2)\n",
    "\n",
    "    calc = -E_al*A_s*( shearflowinx2 - shearflowinx3)\n",
    "    del_fi = np.append(del_fi, calc)\n",
    "print(del_fi)\n",
    "\n",
    "#We make a cut along 12\n",
    "#therefore, our shearflow in the skin calcs start at cut = 2\n",
    "\n",
    "cut = 1\n",
    "f_ij = np.zeros(np.size(x2i))\n",
    "f_ij[cut-1] = 0\n",
    "for i+1 in range(np.size(f_ij)):\n",
    "    f_ij[i] = f_ij[i] + del_fi[i+1]\n",
    "\n",
    "\n",
    "    \n"
   ]
  },
  {
   "cell_type": "code",
   "execution_count": null,
   "metadata": {},
   "outputs": [],
   "source": []
  }
 ],
 "metadata": {
  "kernelspec": {
   "display_name": ".venv",
   "language": "python",
   "name": "python3"
  },
  "language_info": {
   "codemirror_mode": {
    "name": "ipython",
    "version": 3
   },
   "file_extension": ".py",
   "mimetype": "text/x-python",
   "name": "python",
   "nbconvert_exporter": "python",
   "pygments_lexer": "ipython3",
   "version": "3.12.7"
  }
 },
 "nbformat": 4,
 "nbformat_minor": 2
}
