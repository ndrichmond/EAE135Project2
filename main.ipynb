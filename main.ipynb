{
 "cells": [
  {
   "cell_type": "code",
   "execution_count": null,
   "metadata": {},
   "outputs": [
    {
     "name": "stdout",
     "output_type": "stream",
     "text": [
      "Hello World\n",
      "hellow world number 2\n",
      "3\n"
     ]
    }
   ],
   "source": [
    "import numpy as np\n",
    "import matplotlib.pyplot as plt\n",
    "#initialization of variables\n",
    "\n",
    "P_thruster = 1250000 #newtons\n",
    "P_lift = 1400000 #newtons\n",
    "P_weight = 500000 #newtons\n",
    "\n",
    "alpha = 5 #degrees\n",
    "\n",
    "alpha = alpha * np.pi/180\n",
    "\n",
    "P1 = P_lift*np.sin(alpha) - P_thruster\n",
    "\n"
   ]
  }
 ],
 "metadata": {
  "kernelspec": {
   "display_name": ".venv",
   "language": "python",
   "name": "python3"
  },
  "language_info": {
   "codemirror_mode": {
    "name": "ipython",
    "version": 3
   },
   "file_extension": ".py",
   "mimetype": "text/x-python",
   "name": "python",
   "nbconvert_exporter": "python",
   "pygments_lexer": "ipython3",
   "version": "3.13.1"
  }
 },
 "nbformat": 4,
 "nbformat_minor": 2
}
