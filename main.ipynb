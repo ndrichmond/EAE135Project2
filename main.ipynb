{
 "cells": [
  {
   "cell_type": "code",
   "execution_count": 40,
   "metadata": {},
   "outputs": [],
   "source": [
    "import numpy as np\n",
    "import matplotlib.pyplot as plt"
   ]
  },
  {
   "cell_type": "code",
   "execution_count": 41,
   "metadata": {},
   "outputs": [],
   "source": [
    "# Initialization of Constants\n",
    "P_thruster = 1250000 #newtons\n",
    "P_lift = 1400000 #newtons\n",
    "P_weight = 500000 #newtons\n",
    "\n",
    "alpha = 5 #degrees\n",
    "alpha = alpha * np.pi/180\n",
    "EC_11 = 148.24e9 #Pascals, AS4 Axial Young's Modulus\n",
    "EC_22 = 10.07e9 #Pascals, AS4 Transverse Young's Modulus\n",
    "vC_12 = 0.3 # Major in-plane Poisson's ratio\n",
    "vC_21 = EC_22*vC_12/EC_11 # Minor in-plane Poisson's ratio\n",
    "GC_12 = 5.58e9 #Gigapascals, Shear Modulus \n",
    "\n",
    "EAl = 69.69e9 #Pascals\n",
    "\n",
    "R_c = 1.5\n",
    "R_a = 1.495\n",
    "R_i = 1.49\n",
    "\n"
   ]
  },
  {
   "cell_type": "code",
   "execution_count": 45,
   "metadata": {},
   "outputs": [
    {
     "name": "stdout",
     "output_type": "stream",
     "text": [
      "20.634485106960167\n",
      "[-8103524.02332153  -777553.978654    -777553.978654    -550475.49187026\n",
      "  -550475.49187026  -777553.978654    -777553.978654   -8103524.02332153]\n"
     ]
    }
   ],
   "source": [
    "# Determining Axial Stiffness, S\n",
    "def getE(beta):\n",
    "    beta = beta * np.pi/180 #converting degrees to radians\n",
    "    \n",
    "    # Reduced Stiffness Matrix in Local Coordinates\n",
    "    Q = np.array([[(EC_11)/(1-vC_12*vC_21), (vC_21*EC_11)/(1-vC_12*vC_21), 0], \n",
    "                  [(vC_12*EC_22)/(1-vC_12*vC_21), (EC_22)/(1-vC_12*vC_21), 0],\n",
    "                  [0, 0, GC_12]])\n",
    "\n",
    "    # Reuter's Matrix\n",
    "    R = np.array([[1,0,0],[0,1,0],[0,0,2]]) \n",
    "    \n",
    "    # Rotation Matrix\n",
    "    T = np.array([[np.cos(beta)**2, np.sin(beta)**2, 2*np.sin(beta)*np.cos(beta)],\n",
    "                 [np.sin(beta)**2, np.cos(beta)**2,-2*np.sin(beta)*np.cos(beta)],\n",
    "                 [-1*np.sin(beta)*np.cos(beta), np.sin(beta)*np.cos(beta),np.cos(beta)**2 - np.sin(beta)**2]])\n",
    "    \n",
    "    # Reduced Stiffness Matrix in Global Coordinates\n",
    "    Q_bar = np.matmul(np.linalg.inv(T), np.matmul(Q, np.matmul(R, np.matmul(T,np.linalg.inv(R)))))\n",
    "\n",
    "    S_bar = np.linalg.inv(Q_bar)\n",
    "\n",
    "    E_axial = 1/S_bar[0,0]\n",
    "    return E_axial\n",
    "\n",
    "#E_layer1 = getE(0)/10e9\n",
    "#print(E_layer1)\n",
    "\n",
    "E_layers = np.array([getE(0), getE(45), getE(-45), getE(90), getE(90), getE(-45), getE(45), getE(0)]) \n",
    "\n",
    "# Equations for P1 & P2 (Horizontal and Vertical Resultant Forces)\n",
    "P1 = P_lift*np.sin(alpha) - P_thruster\n",
    "P2 = P_lift*np.cos(alpha) - P_weight*np.cos(alpha)\n",
    "\n",
    "# Axial Displacement\n",
    "x1 = np.linspace(0,20,50)\n",
    "\n",
    "#iterate from the outer radius in\n",
    "r = R_c\n",
    "S = 0\n",
    "i = 0\n",
    "numLayers = 8\n",
    "while i < numLayers:\n",
    "    S = S + np.pi * (E_layers[i]) * (r**2 - (r - 0.005)**2)\n",
    "    r = r - 0.005\n",
    "    i = i + 1\n",
    "S = S + np.pi * EAl * (R_a**2 - R_i**2)\n",
    "\n",
    "print(S/10**9)\n",
    "u1 = (P_lift*np.sin(alpha)*x1 - P_thruster*x1)/S\n",
    "\n",
    "# Axial Strain\n",
    "eps1 = (P_lift*np.sin(alpha) - P_thruster)/S\n",
    "\n",
    "# Axial Stress\n",
    "\n",
    "stress_layers = E_layers * eps1 \n",
    "print(stress_layers)\n",
    "\n"
   ]
  }
 ],
 "metadata": {
  "kernelspec": {
   "display_name": ".venv",
   "language": "python",
   "name": "python3"
  },
  "language_info": {
   "codemirror_mode": {
    "name": "ipython",
    "version": 3
   },
   "file_extension": ".py",
   "mimetype": "text/x-python",
   "name": "python",
   "nbconvert_exporter": "python",
   "pygments_lexer": "ipython3",
   "version": "3.13.1"
  }
 },
 "nbformat": 4,
 "nbformat_minor": 2
}
