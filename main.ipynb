{
 "cells": [
  {
   "cell_type": "code",
   "execution_count": null,
   "metadata": {},
   "outputs": [
    {
     "name": "stdout",
     "output_type": "stream",
     "text": [
      "Hello World\n",
      "hellow world number 2\n",
      "3\n"
     ]
    }
   ],
   "source": [
    "print('Hello World')\n",
    "#Adding a different thing somewhere\n",
    "print(\"hellow world number 2\")\n",
    "#a sneaky comment\n",
    "#Testing 123 Creating somethuing werid and wacky\n",
    "#added a second comment\n",
    "# z testing\n",
    "#things are now being updated\n",
    "\n",
    "#yay more comments\n",
    "\n",
    "penis = 1\n",
    "cock = 2\n",
    "print(penis + cock)\n",
    "#this is Nic's change"
   ]
  }
 ],
 "metadata": {
  "kernelspec": {
   "display_name": "Python 3",
   "language": "python",
   "name": "python3"
  },
  "language_info": {
   "codemirror_mode": {
    "name": "ipython",
    "version": 3
   },
   "file_extension": ".py",
   "mimetype": "text/x-python",
   "name": "python",
   "nbconvert_exporter": "python",
   "pygments_lexer": "ipython3",
   "version": "3.12.7"
  }
 },
 "nbformat": 4,
 "nbformat_minor": 2
}
