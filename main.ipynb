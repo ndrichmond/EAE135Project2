{
 "cells": [
  {
   "cell_type": "code",
   "execution_count": 2,
   "metadata": {},
   "outputs": [],
   "source": [
    "import numpy as np\n",
    "import matplotlib.pyplot as plt"
   ]
  },
  {
   "cell_type": "code",
   "execution_count": null,
   "metadata": {},
   "outputs": [],
   "source": [
    "# Initialization of Variables\n",
    "P_thruster = 1250000 #newtons\n",
    "P_lift = 1400000 #newtons\n",
    "P_weight = 500000 #newtons\n",
    "\n",
    "alpha = 5 #degrees\n",
    "alpha = alpha * np.pi/180\n",
    "\n",
    "EC_11 = 148.2372818 #AS4 Young's modulus, axial direction\n",
    "EC_22 = 10.066345648 #AS4 Young's modulus, transverse direction\n",
    "\n",
    "# Equations for P1 & P2 (Horizontal and Vertical Resultant Forces)\n",
    "P1 = P_lift*np.sin(alpha) - P_thruster\n",
    "\n",
    "R = np.array([[1,0,0],\n",
    "              [0,1,0],\n",
    "              [0,0,2]])\n",
    "\n",
    "Q = np.array([[EC_11/(1-v12*v21)],\n",
    "              [],\n",
    "              []])\n",
    "\n",
    "def getT(beta):\n",
    "    beta = beta * np.pi/180\n",
    "    T = np.array([[np.cos(beta)**2, np.sin(beta)**2, 2*np.sin(beta)*np.cos(beta)],\n",
    "                 [np.sin(beta)**2, np.cos(beta)**2,-2*np.sin(beta)*np.cos(beta)],\n",
    "                 [-1*np.sin(beta)*np.cos(beta), np.sin(beta)*np.cos(beta),np.cos(beta)**2 - np.sin(beta)**2]])\n",
    "    return T\n",
    "\n",
    "Q_bar = np.invert()\n"
   ]
  }
 ],
 "metadata": {
  "kernelspec": {
   "display_name": ".venv",
   "language": "python",
   "name": "python3"
  },
  "language_info": {
   "codemirror_mode": {
    "name": "ipython",
    "version": 3
   },
   "file_extension": ".py",
   "mimetype": "text/x-python",
   "name": "python",
   "nbconvert_exporter": "python",
   "pygments_lexer": "ipython3",
   "version": "3.13.1"
  }
 },
 "nbformat": 4,
 "nbformat_minor": 2
}
